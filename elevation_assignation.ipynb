{
 "cells": [
  {
   "cell_type": "markdown",
   "metadata": {},
   "source": [
    "# GMM clustering to generate the most likely elevation for a X, Y georeferenced dataset (Z unknown)"
   ]
  },
  {
   "cell_type": "markdown",
   "metadata": {},
   "source": [
    "## trained on a X, Y, Z georeferenced  training set\n",
    "\n",
    "This is a first draft and any inputs or feedback are more than welcomed !\n",
    "\n",
    "Typical application: you have a recent dataset with X,Y, Z and you want to add older data only \"georeferenced\" as dots on a map (comparable to X, Y coordinates if you work it out with free softwares such as QGis).\n",
    "Using the fully georeferenced dataset (training data), you can predict the most likely elevation for the partially georeferenced data"
   ]
  },
  {
   "cell_type": "markdown",
   "metadata": {},
   "source": [
    "Let's first import what is needed"
   ]
  },
  {
   "cell_type": "code",
   "execution_count": 181,
   "metadata": {},
   "outputs": [],
   "source": [
    "import csv\n",
    "import math\n",
    "import pandas as pd\n",
    "import numpy as np\n",
    "import matplotlib.pyplot as plt\n",
    "import seaborn as sns\n",
    "sns.set()\n",
    "\n",
    "import warnings\n",
    "if not sys.warnoptions:\n",
    "    warnings.simplefilter(\"ignore\")\n",
    "\n",
    "\n",
    "from sklearn.metrics import silhouette_samples, silhouette_score\n",
    "import matplotlib.cm as cm\n",
    "import sklearn.mixture as mix\n"
   ]
  },
  {
   "cell_type": "code",
   "execution_count": 182,
   "metadata": {},
   "outputs": [],
   "source": [
    "import matplotlib.font_manager\n",
    "matplotlib.rcParams.update({'font.size': 20})\n",
    "font = {'family' : 'normal',\n",
    "        'weight' : 'bold',\n",
    "        'size'   : 20}\n",
    "\n",
    "matplotlib.rc('font', **font)"
   ]
  },
  {
   "cell_type": "markdown",
   "metadata": {},
   "source": [
    "This being done, we can start importing the datasets: \"training_topo.csv\" contains X, Y, Z coordinates and \"incomplete_topo.csv\" just the data with X, Y coordinates."
   ]
  },
  {
   "cell_type": "code",
   "execution_count": 183,
   "metadata": {},
   "outputs": [],
   "source": [
    "import requests\n",
    "from os import getcwd\n",
    "\n",
    "url_train = \"https://raw.github.com/AntoineHeu/Small_hacks/master/training_topo.csv\"\n",
    "url_test=\"https://raw.github.com/AntoineHeu/Small_hacks/master/incomplete_topo.csv\"\n",
    "directory = getcwd()\n",
    "\n",
    "\n",
    "geo_ref=pd.read_csv(url_train,sep=',',encoding = \"ISO-8859-1\")\n",
    "geo_incomplete=pd.read_csv(url_test,sep=',',encoding = \"ISO-8859-1\")"
   ]
  },
  {
   "cell_type": "markdown",
   "metadata": {},
   "source": [
    "Let's have a quick look to the data, just to check if everything is alright. Datasets are already cleaned-up here so no need to go through assignation of missing values etc."
   ]
  },
  {
   "cell_type": "code",
   "execution_count": 184,
   "metadata": {},
   "outputs": [
    {
     "data": {
      "text/html": [
       "<div>\n",
       "<style scoped>\n",
       "    .dataframe tbody tr th:only-of-type {\n",
       "        vertical-align: middle;\n",
       "    }\n",
       "\n",
       "    .dataframe tbody tr th {\n",
       "        vertical-align: top;\n",
       "    }\n",
       "\n",
       "    .dataframe thead th {\n",
       "        text-align: right;\n",
       "    }\n",
       "</style>\n",
       "<table border=\"1\" class=\"dataframe\">\n",
       "  <thead>\n",
       "    <tr style=\"text-align: right;\">\n",
       "      <th></th>\n",
       "      <th>sondages</th>\n",
       "      <th>X</th>\n",
       "      <th>Y</th>\n",
       "      <th>Z</th>\n",
       "    </tr>\n",
       "  </thead>\n",
       "  <tbody>\n",
       "    <tr>\n",
       "      <th>0</th>\n",
       "      <td>S1</td>\n",
       "      <td>652007.83</td>\n",
       "      <td>1736990.25</td>\n",
       "      <td>4.08</td>\n",
       "    </tr>\n",
       "    <tr>\n",
       "      <th>1</th>\n",
       "      <td>S2</td>\n",
       "      <td>651983.68</td>\n",
       "      <td>1736997.25</td>\n",
       "      <td>4.26</td>\n",
       "    </tr>\n",
       "    <tr>\n",
       "      <th>2</th>\n",
       "      <td>S3</td>\n",
       "      <td>651997.93</td>\n",
       "      <td>1736991.36</td>\n",
       "      <td>4.24</td>\n",
       "    </tr>\n",
       "    <tr>\n",
       "      <th>3</th>\n",
       "      <td>S4</td>\n",
       "      <td>651986.97</td>\n",
       "      <td>1737006.26</td>\n",
       "      <td>4.02</td>\n",
       "    </tr>\n",
       "    <tr>\n",
       "      <th>4</th>\n",
       "      <td>S5</td>\n",
       "      <td>651939.91</td>\n",
       "      <td>1736921.79</td>\n",
       "      <td>4.20</td>\n",
       "    </tr>\n",
       "  </tbody>\n",
       "</table>\n",
       "</div>"
      ],
      "text/plain": [
       "  sondages          X           Y     Z\n",
       "0       S1  652007.83  1736990.25  4.08\n",
       "1       S2  651983.68  1736997.25  4.26\n",
       "2       S3  651997.93  1736991.36  4.24\n",
       "3       S4  651986.97  1737006.26  4.02\n",
       "4       S5  651939.91  1736921.79  4.20"
      ]
     },
     "execution_count": 184,
     "metadata": {},
     "output_type": "execute_result"
    }
   ],
   "source": [
    "geo_ref.head()\n"
   ]
  },
  {
   "cell_type": "code",
   "execution_count": 185,
   "metadata": {},
   "outputs": [
    {
     "data": {
      "text/html": [
       "<div>\n",
       "<style scoped>\n",
       "    .dataframe tbody tr th:only-of-type {\n",
       "        vertical-align: middle;\n",
       "    }\n",
       "\n",
       "    .dataframe tbody tr th {\n",
       "        vertical-align: top;\n",
       "    }\n",
       "\n",
       "    .dataframe thead th {\n",
       "        text-align: right;\n",
       "    }\n",
       "</style>\n",
       "<table border=\"1\" class=\"dataframe\">\n",
       "  <thead>\n",
       "    <tr style=\"text-align: right;\">\n",
       "      <th></th>\n",
       "      <th>sondages</th>\n",
       "      <th>X</th>\n",
       "      <th>Y</th>\n",
       "      <th>Z</th>\n",
       "    </tr>\n",
       "  </thead>\n",
       "  <tbody>\n",
       "    <tr>\n",
       "      <th>0</th>\n",
       "      <td>SP10-1</td>\n",
       "      <td>651925.403692</td>\n",
       "      <td>1.737052e+06</td>\n",
       "      <td>NaN</td>\n",
       "    </tr>\n",
       "    <tr>\n",
       "      <th>1</th>\n",
       "      <td>SP4-2</td>\n",
       "      <td>651954.040791</td>\n",
       "      <td>1.737028e+06</td>\n",
       "      <td>NaN</td>\n",
       "    </tr>\n",
       "    <tr>\n",
       "      <th>2</th>\n",
       "      <td>SP4-3</td>\n",
       "      <td>651961.486437</td>\n",
       "      <td>1.737038e+06</td>\n",
       "      <td>NaN</td>\n",
       "    </tr>\n",
       "    <tr>\n",
       "      <th>3</th>\n",
       "      <td>SP16-4</td>\n",
       "      <td>651947.167887</td>\n",
       "      <td>1.737011e+06</td>\n",
       "      <td>NaN</td>\n",
       "    </tr>\n",
       "    <tr>\n",
       "      <th>4</th>\n",
       "      <td>SP16-5</td>\n",
       "      <td>651954.327162</td>\n",
       "      <td>1.737014e+06</td>\n",
       "      <td>NaN</td>\n",
       "    </tr>\n",
       "  </tbody>\n",
       "</table>\n",
       "</div>"
      ],
      "text/plain": [
       "  sondages              X             Y   Z\n",
       "0   SP10-1  651925.403692  1.737052e+06 NaN\n",
       "1    SP4-2  651954.040791  1.737028e+06 NaN\n",
       "2    SP4-3  651961.486437  1.737038e+06 NaN\n",
       "3   SP16-4  651947.167887  1.737011e+06 NaN\n",
       "4   SP16-5  651954.327162  1.737014e+06 NaN"
      ]
     },
     "execution_count": 185,
     "metadata": {},
     "output_type": "execute_result"
    }
   ],
   "source": [
    "geo_incomplete.head()"
   ]
  },
  {
   "cell_type": "markdown",
   "metadata": {},
   "source": [
    "As expected, the incomplete dataset is missing Z values - this is what we are trying to predict here!"
   ]
  },
  {
   "cell_type": "markdown",
   "metadata": {},
   "source": [
    "Here we go for the real game. Let's remind what the objectives are:"
   ]
  },
  {
   "cell_type": "markdown",
   "metadata": {},
   "source": [
    "The ideal clusters will take into consideratiion:\n",
    "- The X, Y repartition of the data / two close points are likely to have similar elevation\n",
    "- The clusters are supposed to minimize the standard deviation of Z within them (meaning that members within a cluster are expected to show a minimal of variety of Z values)"
   ]
  },
  {
   "cell_type": "markdown",
   "metadata": {},
   "source": [
    "### 1. Defining the functions needed\n",
    "Let's first program the function that scores according to the standard deviation within each cluster.\n",
    "This function returns the average standard deviation. The smaller, the better !"
   ]
  },
  {
   "cell_type": "code",
   "execution_count": 186,
   "metadata": {},
   "outputs": [],
   "source": [
    "def home_weighted_scoring(dataframe,target,clusters):\n",
    "    \n",
    "    #function that performs a scoring according to how well clusters will group points of similar levels\n",
    "    \n",
    "    #####\n",
    "    #dataframe is a dataframe of the data\n",
    "    #target is the elevation of the clustered samples\n",
    "    #clusters are the clusers assigned to each sample\n",
    "    #####\n",
    "    \n",
    "    #dictionnary containing the results\n",
    "    dct=dict()\n",
    "\n",
    "    for rows in range(len(dataframe)):\n",
    "        if dataframe[clusters][rows] not in dct.keys():\n",
    "            dct[dataframe[clusters][rows]]=[dataframe[target][rows]]\n",
    "\n",
    "        else:\n",
    "            dct[dataframe[clusters][rows]].append(dataframe[target][rows])\n",
    "    \n",
    "    #Calculate the standard deviation in each cluster\n",
    "    def std_heights(dictionnary,key):\n",
    "        liste = dictionnary[key]\n",
    "        import statistics\n",
    "        try:\n",
    "            std=statistics.stdev(liste)\n",
    "        except:\n",
    "            std=0\n",
    "        \n",
    "        \n",
    "        return std\n",
    "    \n",
    "    final_score=0\n",
    "    \n",
    "    for keys in dct.keys():\n",
    "        scoring=std_heights(dct,keys)\n",
    "        final_score=final_score+ scoring\n",
    "    final_score=final_score/len(dct.keys())\n",
    "        \n",
    "    return final_score"
   ]
  },
  {
   "cell_type": "markdown",
   "metadata": {},
   "source": [
    "This done, we can focus on the basic function that will train the clustering algorithm.\n",
    "I have coded this function to broader utilisations than the one here - meaning that there are additionnal option such as a PCA (mostly for visualisation of large datasets) - here this options are not used.\n",
    "\n",
    "I also left as comments the possibility to check for other clustering algorithms (here Kmeans, or Spectral clustering).\n",
    "Again, here we'll stick to the Gaussian Mixture which has a lot of interesting properties (such as the generation of data for example !)"
   ]
  },
  {
   "cell_type": "code",
   "execution_count": 187,
   "metadata": {},
   "outputs": [],
   "source": [
    "def clust_model_training(data,pred,nom_ref,list_lithos,n_clusters,cv_type='full',pca=False,n_comp=2):\n",
    "    \n",
    "     #function that trains a clustering algorithm\n",
    "    #return a dataset with the samples and their dominant lithology\n",
    "    \n",
    "    #####\n",
    "    #data is the dataframe containing the training data\n",
    "    #pred is the list of names for the predictors\n",
    "    #list_lithos is the list of columns names for the lithologies\n",
    "    #nom_ref is the name of the column containing sample references\n",
    "    #n_clusters is the number of clusters to compute\n",
    "    #cv_type is the type of covariance (for GM algo)\n",
    "    #pca=True or False if a PCA is to be computed on the predictors (allows the visualisation of clusters and data, etc..)\n",
    "    #n_comp is the number of components to consider if pca is activated\n",
    "    #####\n",
    "    \n",
    "    \n",
    "    final_df=pd.DataFrame()\n",
    "    \n",
    "    'built in of predictors'\n",
    "    clean_up=pd.DataFrame()\n",
    "    for i in pred:\n",
    "        clean_up=pd.concat([clean_up,data[i]],axis=1)\n",
    "        clean_up_scale=clean_up\n",
    "    for j in list_lithos:\n",
    "        clean_up=pd.concat([clean_up,data[j]],axis=1)\n",
    "    \n",
    "    clean_up=pd.concat([clean_up,data[nom_ref]],axis=1)\n",
    "    \n",
    "    clean_up.dropna(inplace=True)\n",
    "    clean_up_scale.dropna(inplace=True)\n",
    "    clean_up.index = pd.RangeIndex(len(clean_up.index))\n",
    "    clean_up_scale.index = pd.RangeIndex(len(clean_up_scale.index))\n",
    "\n",
    "    predictors=pd.DataFrame()\n",
    "    for i in pred:\n",
    "        predictors=pd.concat([predictors,clean_up[i]],axis=1)\n",
    "    list_pred=list(predictors.columns)\n",
    "    \n",
    "    predictors.index = pd.RangeIndex(len(predictors.index))\n",
    "\n",
    "    predictors=pd.DataFrame(predictors)\n",
    "    predictors.columns=list_pred       \n",
    "    \n",
    "    if pca==True:\n",
    "        predictors=dim_reduction_pca(predictors,n_comp)\n",
    "\n",
    "    #kmeans = KMeans(n_clusters=n_clusters)\n",
    "    #kmeans=SpectralClustering(n_clusters=n_clusters, affinity='nearest_neighbors',assign_labels='kmeans')\n",
    "    kmeans=mix.GaussianMixture(n_components=n_clusters, covariance_type = cv_type)\n",
    "\n",
    "    try:\n",
    "        y_kmeans = kmeans.fit_predict(predictors)\n",
    "    except:\n",
    "        y_kmeans = kmeans.fit(predictors).predict(predictors)\n",
    "    \n",
    "    final_df=pd.concat([final_df,pd.DataFrame(y_kmeans),data[nom_ref],data[list_lithos]],axis=1)\n",
    "    final_df.columns=['clusters','sam_ref','hauteur']\n",
    "    \n",
    "    return final_df,predictors,kmeans, y_kmeans"
   ]
  },
  {
   "cell_type": "markdown",
   "metadata": {},
   "source": [
    "Great, so far we have a scoring function and the function that will train our clustering model for a given number of clusters and covariance type.\n",
    "\n",
    "We now need to find the best parameters !"
   ]
  },
  {
   "cell_type": "markdown",
   "metadata": {},
   "source": [
    "### 2. Finding the optimal number of clusters and covariance type (for GM)"
   ]
  },
  {
   "cell_type": "markdown",
   "metadata": {},
   "source": [
    "Let's use the great algotithm available here:\n",
    "http://scikit-learn.org/stable/auto_examples/mixture/plot_gmm_selection.html\n",
    "\n",
    "all credit goes to them - I just added a few modifications such as our home-made scoring"
   ]
  },
  {
   "cell_type": "markdown",
   "metadata": {},
   "source": [
    "I like this function because it gives quite a few informations:\n",
    "- it will plot the X,Y coordinates which will allow you to check if everuthing is running fine\n",
    "- it compares different covariance strategies and different number of clusters\n",
    "\n",
    "This function will select the best combination of (number of clusters, covariance type)"
   ]
  },
  {
   "cell_type": "code",
   "execution_count": 188,
   "metadata": {},
   "outputs": [],
   "source": [
    "def test_BIC_validation_with_scoring(score=True):\n",
    "    \n",
    "    #BIC testing of different covariance definition and number of clusters\n",
    "    #BIC scoring has been tuned to include the home_made_scoring if parameter score==True\n",
    "    \n",
    "    #largely extracted from scikit libraries - online examples\n",
    "    #all credits goes to: http://scikit-learn.org/stable/auto_examples/mixture/plot_gmm_selection.html\n",
    "    #check the page for more infos\n",
    "    \n",
    "    #largely extracted from scikit libraries - online examples\n",
    "    import numpy as np\n",
    "    import itertools\n",
    "    \n",
    "    from scipy import linalg\n",
    "    import matplotlib.pyplot as plt\n",
    "    import matplotlib as mpl\n",
    "    \n",
    "    from sklearn import mixture\n",
    "    \n",
    "    plt.clf()\n",
    "    print(__doc__)\n",
    "        \n",
    "    # Generate random sample, two components\n",
    "    np.random.seed(0)    \n",
    "    \n",
    "    lowest_bic = np.infty\n",
    "    bic = []\n",
    "    n_components_range = range(2, 15)\n",
    "    # \n",
    "    cv_types = ['spherical', 'diag','full']\n",
    "    for cv_type in cv_types:\n",
    "        for n_components in n_components_range:\n",
    "            #house made prediction\n",
    "            final_df,predictors,kmeans, cluster_model=clust_model_training(geo_ref,['X','Y'],'sondages',['Z'],n_components,cv_type,pca=False,n_comp=2)\n",
    "            scoring=home_weighted_scoring(final_df,'hauteur','clusters')\n",
    "            \n",
    "            # Fit a Gaussian mixture with EM\n",
    "            gmm = mixture.GaussianMixture(n_components=n_components,\n",
    "                                          covariance_type=cv_type)\n",
    "            gmm.fit(predictors)\n",
    "            if score==True:\n",
    "                bic.append(gmm.bic(predictors)*scoring)\n",
    "            else:\n",
    "                bic.append(gmm.bic(predictors))\n",
    "            if bic[-1] < lowest_bic:\n",
    "                lowest_bic = bic[-1]\n",
    "                best_gmm = gmm\n",
    "                saved_cv=cv_type\n",
    "                saved_component=n_components\n",
    "    \n",
    "    bic = np.array(bic)\n",
    "    color_iter = itertools.cycle(['navy', 'indianred', 'cornflowerblue',\n",
    "                                  'darkorange','green','orangered','peru','gold'])\n",
    "    clf = best_gmm\n",
    "    bars = []\n",
    "    \n",
    "    # Plot the BIC scores\n",
    "    spl = plt.subplot(2, 1, 1)\n",
    "    for i, (cv_type, color) in enumerate(zip(cv_types, color_iter)):\n",
    "        xpos = np.array(n_components_range) + .2 * (i - 2)\n",
    "        bars.append(plt.bar(xpos, bic[i * len(n_components_range):\n",
    "                                      (i + 1) * len(n_components_range)],\n",
    "                            width=.2, color=color))\n",
    "    plt.xticks(n_components_range)\n",
    "    plt.ylim([bic.min() * 1.01 - .01 * bic.max(), bic.max()])\n",
    "    plt.title('BIC score per model')\n",
    "    xpos = np.mod(bic.argmin(), len(n_components_range)) + .65 +\\\n",
    "        .2 * np.floor(bic.argmin() / len(n_components_range))\n",
    "    plt.text(xpos, bic.min() * 0.97 + .03 * bic.max(), '*', fontsize=14)\n",
    "    spl.set_xlabel('Number of components')\n",
    "    spl.legend([b[0] for b in bars], cv_types)\n",
    "    \n",
    "    if len(predictors.columns)==2:\n",
    "        try:\n",
    "            # Plot the winner\n",
    "            splot = plt.subplot(2, 1, 2)\n",
    "            Y_ = clf.predict(predictors)\n",
    "    \n",
    "            for i, (mean, cov, color) in enumerate(zip(clf.means_, clf.covariances_,\n",
    "                                                       color_iter)):\n",
    "    \n",
    "                v, w = linalg.eigh(cov)\n",
    "                \n",
    "                if not np.any(Y_ == i):\n",
    "                    continue\n",
    "                plt.scatter(np.array(predictors)[Y_ == i, 0], np.array(predictors)[Y_ == i, 1], 2.8, color=color)\n",
    "    \n",
    "                # Plot an ellipse to show the Gaussian component\n",
    "                angle = np.arctan2(w[0][1], w[0][0])\n",
    "                angle = 180. * angle / np.pi  # convert to degrees\n",
    "                v = 2. * np.sqrt(2.) * np.sqrt(v)\n",
    "                ell = mpl.patches.Ellipse(mean, v[0], v[1], 180. + angle, color=color)\n",
    "                ell.set_clip_box(splot.bbox)\n",
    "                ell.set_alpha(.5)\n",
    "                splot.add_artist(ell)\n",
    "            \n",
    "        except:\n",
    "            #somehow the graph is not plotted when the winner is not with a full covariance property... I didn't take the time to fix that :)\n",
    "            print(\"scatter graph could not be displayed\")\n",
    "    \n",
    "    plt.xticks(())\n",
    "    plt.yticks(())\n",
    "    plt.title('Selected GMM')\n",
    "    plt.subplots_adjust(hspace=.35, bottom=.02)\n",
    "    plt.savefig(\"cross_validation of parameters.png\")\n",
    "    plt.show()\n",
    "\n",
    "\n",
    "    return saved_cv, saved_component,predictors\n"
   ]
  },
  {
   "cell_type": "markdown",
   "metadata": {},
   "source": [
    "That being set, we are ready to give it a try with our data !"
   ]
  },
  {
   "cell_type": "code",
   "execution_count": 189,
   "metadata": {
    "scrolled": false
   },
   "outputs": [
    {
     "name": "stdout",
     "output_type": "stream",
     "text": [
      "Automatically created module for IPython interactive environment\n"
     ]
    },
    {
     "data": {
      "image/png": "[encoded data removed]",
      "text/plain": [
       "<Figure size 432x288 with 2 Axes>"
      ]
     },
     "metadata": {},
     "output_type": "display_data"
    }
   ],
   "source": [
    "saved_cv, saved_component,predictors=test_BIC_validation_with_scoring(score=True)"
   ]
  },
  {
   "cell_type": "code",
   "execution_count": 190,
   "metadata": {},
   "outputs": [
    {
     "data": {
      "text/plain": [
       "(11, 'full')"
      ]
     },
     "execution_count": 190,
     "metadata": {},
     "output_type": "execute_result"
    }
   ],
   "source": [
    "saved_component,saved_cv"
   ]
  },
  {
   "cell_type": "markdown",
   "metadata": {},
   "source": [
    "Ok, it's looking good - surely the graph needs a little clean-up but we got the idea:\n",
    "- optimal number of clusters is 11 for a full covariance strategy\n",
    "- here number of clusters assessed are limited to 15 as it seemed to be coherent for the site\n",
    "- Obviously, if the number of assessed clusters were to range from 2 to number of points, the optimum would be the number of points (standard deviation of 0)"
   ]
  },
  {
   "cell_type": "markdown",
   "metadata": {},
   "source": [
    "Just a point here: the graph will not be plotted if the covariance type is not \"full\" - there is surely something to look for in the algo but I did not take the time to fixe it. Feel free to point out the problem if you spot it !"
   ]
  },
  {
   "cell_type": "markdown",
   "metadata": {},
   "source": [
    "Now, as my scoring is not built up on a solid mathematic demonstration on how well it performs, you can (and you should !) be a bit dubitative about it.\n",
    "\n",
    "Let's plot the scores for a range of clusters from 2 to 50 with our clustering model and a covariance type \"full\" (each cluster has it's own covariance)"
   ]
  },
  {
   "cell_type": "code",
   "execution_count": 191,
   "metadata": {},
   "outputs": [],
   "source": [
    "def plot_scorings (data,pred,nom_ref,list_lithos,cv_type='full',pca=False,n_comp=2):\n",
    "    scores=[]\n",
    "    n_comp=[]\n",
    "    for i in range(2,50):\n",
    "        final_df,predictors,kmeans, cluster_model=clust_model_training(data,pred,nom_ref,list_lithos,i,cv_type,pca,n_comp)\n",
    "        final_score=home_weighted_scoring(final_df,'hauteur','clusters')\n",
    "        scores.append(final_score)\n",
    "        n_comp.append(i)\n",
    "    \n",
    "    figure = plt.figure(figsize = (10,10))\n",
    "    plt.plot(n_comp, scores, color='g')\n",
    "    plt.xlabel('number of clusters')\n",
    "    plt.ylabel('scores')\n",
    "    plt.title('scores according to the number of clusters')\n",
    "    figure.savefig(\"%s_scoring.png\"%(nom_ref))\n",
    "    plt.show()\n",
    "    \n",
    "    return"
   ]
  },
  {
   "cell_type": "code",
   "execution_count": 192,
   "metadata": {},
   "outputs": [
    {
     "data": {
      "image/png": "[encoded data removed]",
      "text/plain": [
       "<Figure size 720x720 with 1 Axes>"
      ]
     },
     "metadata": {},
     "output_type": "display_data"
    }
   ],
   "source": [
    "plot_scorings (geo_ref,['X','Y'],'sondages',['Z'],'full',pca=False,n_comp=2)"
   ]
  },
  {
   "cell_type": "markdown",
   "metadata": {},
   "source": [
    "As expected, the average standard deviation decreases with the number of clusters. It is interesting to see that the optimum number of clusters is not that much influenced by the scoring as the mean standard deviation for 11 clusters is around 0.275.\n",
    "\n",
    "There is probably room for more investigation here !"
   ]
  },
  {
   "cell_type": "markdown",
   "metadata": {},
   "source": [
    "### 3. Use the model to assign elevation to the incomplete data"
   ]
  },
  {
   "cell_type": "markdown",
   "metadata": {},
   "source": [
    "To use the model we optimized, we need a few basic fonctions.\n",
    "\n",
    "The first one is the assignation of the elevation to the clusters"
   ]
  },
  {
   "cell_type": "code",
   "execution_count": 193,
   "metadata": {},
   "outputs": [],
   "source": [
    "def assign_values_clusters(dataframe,target,clusters):\n",
    "    \n",
    "    #function that assigns, for each cluster its mean elevation\n",
    "    #####\n",
    "    #dataframe is a dataframe of the data\n",
    "    #target is the elevation\n",
    "    #clusters are the clusers assigned to each sample\n",
    "    #####\n",
    "    \n",
    "    #dictionnary containing the results\n",
    "    dct=dict()\n",
    "    for rows in range(len(dataframe)):\n",
    "        if dataframe[clusters][rows] not in dct.keys():\n",
    "            dct[dataframe[clusters][rows]]=[dataframe[target][rows]]\n",
    "\n",
    "        else:\n",
    "            dct[dataframe[clusters][rows]].append(dataframe[target][rows])\n",
    "    \n",
    "    def mean_height(dictionnary,key):\n",
    "        liste = dictionnary[key]\n",
    "        mean=sum(liste) / float(len(liste))\n",
    "        \n",
    "        return mean\n",
    "    \n",
    "    for keys in dct.keys():\n",
    "        mean_clusters=mean_height(dct,keys)\n",
    "        dct[keys]=mean_clusters\n",
    "    \n",
    "    return dct"
   ]
  },
  {
   "cell_type": "markdown",
   "metadata": {},
   "source": [
    "let's use it and show the mean elevation for each clusters"
   ]
  },
  {
   "cell_type": "code",
   "execution_count": 194,
   "metadata": {},
   "outputs": [],
   "source": [
    "final_df,predictors,kmeans, cluster_model=clust_model_training(geo_ref,['X','Y'],'sondages',['Z'],11,'full',pca=False,n_comp=2)\n",
    "means=assign_values_clusters(final_df,'hauteur','clusters')"
   ]
  },
  {
   "cell_type": "code",
   "execution_count": 195,
   "metadata": {},
   "outputs": [
    {
     "data": {
      "text/plain": [
       "{0: 4.0314285714285711,\n",
       " 1: 4.1962499999999991,\n",
       " 2: 4.1399999999999997,\n",
       " 3: 3.48,\n",
       " 4: 3.9488888888888889,\n",
       " 5: 3.7039999999999993,\n",
       " 6: 4.1780000000000008,\n",
       " 7: 4.1733333333333338,\n",
       " 8: 4.1950000000000003,\n",
       " 9: 3.3149999999999999,\n",
       " 10: 3.4900000000000002}"
      ]
     },
     "execution_count": 195,
     "metadata": {},
     "output_type": "execute_result"
    }
   ],
   "source": [
    "means"
   ]
  },
  {
   "cell_type": "markdown",
   "metadata": {},
   "source": [
    "This final script built a csv file with the names of drillholes and their assigned cluster. One just has to complete it with the correspondant elevation."
   ]
  },
  {
   "cell_type": "code",
   "execution_count": 196,
   "metadata": {},
   "outputs": [],
   "source": [
    "def predict_only_clusters(data,pred,nom_ref,model_clusters):\n",
    "    \n",
    "    #function that predicts clusters from a clustering model - on a new dataset, with writing the results in a csv file\n",
    "    \n",
    "    #####\n",
    "    #data is the dataframe containing the incomplete data\n",
    "    #pred is the list of names for the predictors\n",
    "    #nom_ref is the name of the column containing sample references\n",
    "    #model_clusters is the clustering model fitted on a training set\n",
    "    #####\n",
    "    \n",
    "    \n",
    "    #built in of predictors\n",
    "    clean_up=pd.DataFrame()\n",
    "    for i in pred:\n",
    "        clean_up=pd.concat([clean_up,data[i]],axis=1)\n",
    "        clean_up_scale=clean_up\n",
    "    \n",
    "    clean_up=pd.concat([clean_up,data[nom_ref]],axis=1)\n",
    "    \n",
    "    clean_up.dropna(inplace=True)\n",
    "    clean_up_scale.dropna(inplace=True)\n",
    "    clean_up.index = pd.RangeIndex(len(clean_up.index))\n",
    "    clean_up_scale.index = pd.RangeIndex(len(clean_up_scale.index))\n",
    "\n",
    "    predictors=pd.DataFrame()\n",
    "    for i in pred:\n",
    "        predictors=pd.concat([predictors,clean_up[i]],axis=1)\n",
    "    list_pred=list(predictors.columns)\n",
    "    \n",
    "    predictors.index = pd.RangeIndex(len(predictors.index))\n",
    "\n",
    "    predictors=pd.DataFrame(predictors)\n",
    "    predictors.columns=list_pred\n",
    "    \n",
    "    #prediction sur le jeu de données\n",
    "    prediction_tot=model_clusters.predict(predictors)\n",
    "    \n",
    "    filename='prediction_clusters_lithos.csv'\n",
    "    with open(filename, 'w',newline='') as csvfile:\n",
    "        filewriter = csv.writer(csvfile, delimiter=',')\n",
    "        for lignes in range(0,len(data)):\n",
    "            \n",
    "            predicteurs=[predictors[i][j] for i in list_pred for j in range(len(clean_up)) if data[nom_ref][lignes] ==clean_up[nom_ref][j]]\n",
    "\n",
    "            try:            \n",
    "                prediction = model_clusters.predict(np.array(predicteurs).reshape(1,-1))\n",
    "                    \n",
    "                filewriter.writerow([data[nom_ref][lignes], prediction])\n",
    "                \n",
    "            except:\n",
    "                print('ligne sautée')\n",
    "    \n",
    "    #Returns additionnal elements that could be useful for further investigations\n",
    "    return prediction_tot"
   ]
  },
  {
   "cell_type": "code",
   "execution_count": 197,
   "metadata": {},
   "outputs": [],
   "source": [
    "georeferenced=predict_only_clusters(geo_incomplete,['X','Y'],'sondages',kmeans)\n"
   ]
  },
  {
   "cell_type": "code",
   "execution_count": 198,
   "metadata": {},
   "outputs": [
    {
     "data": {
      "text/plain": [
       "array([6, 6, 1, 6, 6, 1, 1, 0, 0, 4, 4, 4, 4, 4, 5, 1, 4, 4, 4, 4, 4, 3, 4,\n",
       "       3, 3, 3, 3, 3, 3, 3, 3, 3, 3, 3, 3, 3, 3, 3, 3, 3, 5, 3, 3], dtype=int64)"
      ]
     },
     "execution_count": 198,
     "metadata": {},
     "output_type": "execute_result"
    }
   ],
   "source": [
    "georeferenced"
   ]
  },
  {
   "cell_type": "markdown",
   "metadata": {},
   "source": [
    "Here you go, please any feedbacks are welcomed, hope you enjoyed it !"
   ]
  },
  {
   "cell_type": "markdown",
   "metadata": {},
   "source": [
    "Antoine Heude"
   ]
  },
  {
   "cell_type": "code",
   "execution_count": null,
   "metadata": {},
   "outputs": [],
   "source": []
  }
 ],
 "metadata": {
  "kernelspec": {
   "display_name": "Python 3",
   "language": "python",
   "name": "python3"
  },
  "language_info": {
   "codemirror_mode": {
    "name": "ipython",
    "version": 3
   },
   "file_extension": ".py",
   "mimetype": "text/x-python",
   "name": "python",
   "nbconvert_exporter": "python",
   "pygments_lexer": "ipython3",
   "version": "3.6.4"
  }
 },
 "nbformat": 4,
 "nbformat_minor": 2
}
